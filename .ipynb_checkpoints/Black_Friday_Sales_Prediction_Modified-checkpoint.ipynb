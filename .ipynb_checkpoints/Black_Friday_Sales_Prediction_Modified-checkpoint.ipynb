{
 "cells": [
  {
   "cell_type": "markdown",
   "metadata": {},
   "source": [
    "# Analytics Vidhya Practice Problem \n",
    "\n",
    "https://datahack.analyticsvidhya.com/contest/black-friday/\n",
    "\n",
    "<img src = \"Black_Friday_Data_Information.PNG\" w=200 h=200>\n",
    "\n",
    "Using the train data, build a model to predict test data and then upload the predictions on the site to check your accuracy and score etc."
   ]
  },
  {
   "cell_type": "code",
   "execution_count": 1,
   "metadata": {},
   "outputs": [],
   "source": [
    "import numpy as np\n",
    "import pandas as pd\n",
    "import matplotlib.pyplot as plt\n",
    "import seaborn as sns"
   ]
  },
  {
   "cell_type": "code",
   "execution_count": 2,
   "metadata": {},
   "outputs": [],
   "source": [
    "train = pd.read_csv(\"train.csv\")\n",
    "original_train = train.copy()\n",
    "test = pd.read_csv(\"test.csv\")\n",
    "original_test = test.copy()"
   ]
  },
  {
   "cell_type": "code",
   "execution_count": 3,
   "metadata": {
    "scrolled": true
   },
   "outputs": [
    {
     "data": {
      "text/html": [
       "<div>\n",
       "<style scoped>\n",
       "    .dataframe tbody tr th:only-of-type {\n",
       "        vertical-align: middle;\n",
       "    }\n",
       "\n",
       "    .dataframe tbody tr th {\n",
       "        vertical-align: top;\n",
       "    }\n",
       "\n",
       "    .dataframe thead th {\n",
       "        text-align: right;\n",
       "    }\n",
       "</style>\n",
       "<table border=\"1\" class=\"dataframe\">\n",
       "  <thead>\n",
       "    <tr style=\"text-align: right;\">\n",
       "      <th></th>\n",
       "      <th>User_ID</th>\n",
       "      <th>Product_ID</th>\n",
       "      <th>Gender</th>\n",
       "      <th>Age</th>\n",
       "      <th>Occupation</th>\n",
       "      <th>City_Category</th>\n",
       "      <th>Stay_In_Current_City_Years</th>\n",
       "      <th>Marital_Status</th>\n",
       "      <th>Product_Category_1</th>\n",
       "      <th>Product_Category_2</th>\n",
       "      <th>Product_Category_3</th>\n",
       "      <th>Purchase</th>\n",
       "    </tr>\n",
       "  </thead>\n",
       "  <tbody>\n",
       "    <tr>\n",
       "      <td>0</td>\n",
       "      <td>1000001</td>\n",
       "      <td>P00069042</td>\n",
       "      <td>F</td>\n",
       "      <td>0-17</td>\n",
       "      <td>10</td>\n",
       "      <td>A</td>\n",
       "      <td>2</td>\n",
       "      <td>0</td>\n",
       "      <td>3</td>\n",
       "      <td>NaN</td>\n",
       "      <td>NaN</td>\n",
       "      <td>8370</td>\n",
       "    </tr>\n",
       "    <tr>\n",
       "      <td>1</td>\n",
       "      <td>1000001</td>\n",
       "      <td>P00248942</td>\n",
       "      <td>F</td>\n",
       "      <td>0-17</td>\n",
       "      <td>10</td>\n",
       "      <td>A</td>\n",
       "      <td>2</td>\n",
       "      <td>0</td>\n",
       "      <td>1</td>\n",
       "      <td>6.0</td>\n",
       "      <td>14.0</td>\n",
       "      <td>15200</td>\n",
       "    </tr>\n",
       "    <tr>\n",
       "      <td>2</td>\n",
       "      <td>1000001</td>\n",
       "      <td>P00087842</td>\n",
       "      <td>F</td>\n",
       "      <td>0-17</td>\n",
       "      <td>10</td>\n",
       "      <td>A</td>\n",
       "      <td>2</td>\n",
       "      <td>0</td>\n",
       "      <td>12</td>\n",
       "      <td>NaN</td>\n",
       "      <td>NaN</td>\n",
       "      <td>1422</td>\n",
       "    </tr>\n",
       "    <tr>\n",
       "      <td>3</td>\n",
       "      <td>1000001</td>\n",
       "      <td>P00085442</td>\n",
       "      <td>F</td>\n",
       "      <td>0-17</td>\n",
       "      <td>10</td>\n",
       "      <td>A</td>\n",
       "      <td>2</td>\n",
       "      <td>0</td>\n",
       "      <td>12</td>\n",
       "      <td>14.0</td>\n",
       "      <td>NaN</td>\n",
       "      <td>1057</td>\n",
       "    </tr>\n",
       "    <tr>\n",
       "      <td>4</td>\n",
       "      <td>1000002</td>\n",
       "      <td>P00285442</td>\n",
       "      <td>M</td>\n",
       "      <td>55+</td>\n",
       "      <td>16</td>\n",
       "      <td>C</td>\n",
       "      <td>4+</td>\n",
       "      <td>0</td>\n",
       "      <td>8</td>\n",
       "      <td>NaN</td>\n",
       "      <td>NaN</td>\n",
       "      <td>7969</td>\n",
       "    </tr>\n",
       "  </tbody>\n",
       "</table>\n",
       "</div>"
      ],
      "text/plain": [
       "   User_ID Product_ID Gender   Age  Occupation City_Category  \\\n",
       "0  1000001  P00069042      F  0-17          10             A   \n",
       "1  1000001  P00248942      F  0-17          10             A   \n",
       "2  1000001  P00087842      F  0-17          10             A   \n",
       "3  1000001  P00085442      F  0-17          10             A   \n",
       "4  1000002  P00285442      M   55+          16             C   \n",
       "\n",
       "  Stay_In_Current_City_Years  Marital_Status  Product_Category_1  \\\n",
       "0                          2               0                   3   \n",
       "1                          2               0                   1   \n",
       "2                          2               0                  12   \n",
       "3                          2               0                  12   \n",
       "4                         4+               0                   8   \n",
       "\n",
       "   Product_Category_2  Product_Category_3  Purchase  \n",
       "0                 NaN                 NaN      8370  \n",
       "1                 6.0                14.0     15200  \n",
       "2                 NaN                 NaN      1422  \n",
       "3                14.0                 NaN      1057  \n",
       "4                 NaN                 NaN      7969  "
      ]
     },
     "execution_count": 3,
     "metadata": {},
     "output_type": "execute_result"
    }
   ],
   "source": [
    "train.head()"
   ]
  },
  {
   "cell_type": "code",
   "execution_count": 4,
   "metadata": {},
   "outputs": [
    {
     "data": {
      "text/plain": [
       "User_ID                        0.00\n",
       "Product_ID                     0.00\n",
       "Gender                         0.00\n",
       "Age                            0.00\n",
       "Occupation                     0.00\n",
       "City_Category                  0.00\n",
       "Stay_In_Current_City_Years     0.00\n",
       "Marital_Status                 0.00\n",
       "Product_Category_1             0.00\n",
       "Product_Category_2            31.57\n",
       "Product_Category_3            69.67\n",
       "Purchase                       0.00\n",
       "dtype: float64"
      ]
     },
     "execution_count": 4,
     "metadata": {},
     "output_type": "execute_result"
    }
   ],
   "source": [
    "np.round(100 * train.isnull().sum()/train.shape[0], 2)"
   ]
  },
  {
   "cell_type": "code",
   "execution_count": 5,
   "metadata": {},
   "outputs": [
    {
     "data": {
      "text/plain": [
       "User_ID                        0.00\n",
       "Product_ID                     0.00\n",
       "Gender                         0.00\n",
       "Age                            0.00\n",
       "Occupation                     0.00\n",
       "City_Category                  0.00\n",
       "Stay_In_Current_City_Years     0.00\n",
       "Marital_Status                 0.00\n",
       "Product_Category_1             0.00\n",
       "Product_Category_2            30.97\n",
       "Product_Category_3            69.59\n",
       "dtype: float64"
      ]
     },
     "execution_count": 5,
     "metadata": {},
     "output_type": "execute_result"
    }
   ],
   "source": [
    "np.round(100 * test.isnull().sum()/test.shape[0], 2)"
   ]
  },
  {
   "cell_type": "markdown",
   "metadata": {},
   "source": [
    "We can see that there's a fairly large number of missing values in product categories two and three. We will have to handle this later in our analysis "
   ]
  },
  {
   "cell_type": "code",
   "execution_count": 6,
   "metadata": {},
   "outputs": [
    {
     "data": {
      "text/plain": [
       "(550068, 12)"
      ]
     },
     "execution_count": 6,
     "metadata": {},
     "output_type": "execute_result"
    }
   ],
   "source": [
    "train.shape"
   ]
  },
  {
   "cell_type": "code",
   "execution_count": 7,
   "metadata": {},
   "outputs": [
    {
     "data": {
      "text/plain": [
       "User_ID                        5891\n",
       "Product_ID                     3631\n",
       "Gender                            2\n",
       "Age                               7\n",
       "Occupation                       21\n",
       "City_Category                     3\n",
       "Stay_In_Current_City_Years        5\n",
       "Marital_Status                    2\n",
       "Product_Category_1               20\n",
       "Product_Category_2               17\n",
       "Product_Category_3               15\n",
       "Purchase                      18105\n",
       "dtype: int64"
      ]
     },
     "execution_count": 7,
     "metadata": {},
     "output_type": "execute_result"
    }
   ],
   "source": [
    "train.nunique()"
   ]
  },
  {
   "cell_type": "code",
   "execution_count": 8,
   "metadata": {},
   "outputs": [
    {
     "data": {
      "text/plain": [
       "User_ID                       5891\n",
       "Product_ID                    3491\n",
       "Gender                           2\n",
       "Age                              7\n",
       "Occupation                      21\n",
       "City_Category                    3\n",
       "Stay_In_Current_City_Years       5\n",
       "Marital_Status                   2\n",
       "Product_Category_1              18\n",
       "Product_Category_2              17\n",
       "Product_Category_3              15\n",
       "dtype: int64"
      ]
     },
     "execution_count": 8,
     "metadata": {},
     "output_type": "execute_result"
    }
   ],
   "source": [
    "test.nunique()"
   ]
  },
  {
   "cell_type": "markdown",
   "metadata": {},
   "source": [
    "# Exploratory Data Analysis"
   ]
  },
  {
   "cell_type": "code",
   "execution_count": 9,
   "metadata": {},
   "outputs": [
    {
     "data": {
      "image/png": "[encoded data removed]",
      "text/plain": [
       "<Figure size 576x288 with 1 Axes>"
      ]
     },
     "metadata": {
      "needs_background": "light"
     },
     "output_type": "display_data"
    }
   ],
   "source": [
    "from matplotlib import rcParams\n",
    "rcParams['figure.figsize'] = 8,4\n",
    "sns.boxplot(x = \"Age\", y = \"Purchase\", data = train)\n",
    "plt.title(\"Agewise Purchases\")\n",
    "plt.show()"
   ]
  },
  {
   "cell_type": "markdown",
   "metadata": {},
   "source": [
    "**INTUITION FROM THE ABOVE GRAPH**\n",
    "\n",
    "The median value of purchase across all ages is approximately the same looking at the graph above. "
   ]
  },
  {
   "cell_type": "code",
   "execution_count": 10,
   "metadata": {},
   "outputs": [
    {
     "data": {
      "image/png": "[encoded data removed]",
      "text/plain": [
       "<Figure size 576x288 with 1 Axes>"
      ]
     },
     "metadata": {
      "needs_background": "light"
     },
     "output_type": "display_data"
    }
   ],
   "source": [
    "sns.boxplot(x = \"City_Category\", y = \"Purchase\", data = train)\n",
    "plt.title(\"Citywise Purchases\")\n",
    "plt.show()"
   ]
  },
  {
   "cell_type": "markdown",
   "metadata": {},
   "source": [
    "**INTUITION FROM THE ABOVE GRAPH**\n",
    "\n",
    "People from City C purchase more and their distribution is fairly uniform with only a few potential outliers."
   ]
  },
  {
   "cell_type": "code",
   "execution_count": 11,
   "metadata": {},
   "outputs": [
    {
     "data": {
      "image/png": "[encoded data removed]",
      "text/plain": [
       "<Figure size 576x288 with 1 Axes>"
      ]
     },
     "metadata": {
      "needs_background": "light"
     },
     "output_type": "display_data"
    }
   ],
   "source": [
    "sns.boxplot(x = \"Gender\", y = \"Purchase\", data = train)\n",
    "plt.title(\"Genderwise Purchases\")\n",
    "plt.show()"
   ]
  },
  {
   "cell_type": "markdown",
   "metadata": {},
   "source": [
    "**INTUITION FROM THE ABOVE GRAPH**\n",
    "\n",
    "Both males and females seem to have similar purchasing patterns from the above graph with males tending to have slightly higher purchasing amount."
   ]
  },
  {
   "cell_type": "code",
   "execution_count": 12,
   "metadata": {},
   "outputs": [
    {
     "data": {
      "image/png": "[encoded data removed]",
      "text/plain": [
       "<Figure size 720x504 with 1 Axes>"
      ]
     },
     "metadata": {
      "needs_background": "light"
     },
     "output_type": "display_data"
    }
   ],
   "source": [
    "rcParams['figure.figsize'] = 10, 7\n",
    "sns.boxplot(x = \"Occupation\", y = \"Purchase\", data = train)\n",
    "plt.title(\"Occupationwise Purchases\")\n",
    "plt.show()"
   ]
  },
  {
   "cell_type": "markdown",
   "metadata": {},
   "source": [
    " **INTUITION FROM THE ABOVE GRAPH**\n",
    "\n",
    "People across different occupation streams seem to have similar purchase patterns in general with the median purchasing capacity of around 7k-8k currency units."
   ]
  },
  {
   "cell_type": "code",
   "execution_count": 13,
   "metadata": {},
   "outputs": [
    {
     "data": {
      "image/png": "[encoded data removed]",
      "text/plain": [
       "<Figure size 576x360 with 1 Axes>"
      ]
     },
     "metadata": {
      "needs_background": "light"
     },
     "output_type": "display_data"
    }
   ],
   "source": [
    "rcParams['figure.figsize'] = 8,5\n",
    "sns.boxplot(x = \"Marital_Status\", y = \"Purchase\", data = train)\n",
    "plt.title(\"Marraige Status-wise Purchases\")\n",
    "plt.show()"
   ]
  },
  {
   "cell_type": "markdown",
   "metadata": {},
   "source": [
    " **INTUITION FROM THE ABOVE GRAPH**\n",
    "\n",
    "Both married and single people purchase the similar amount of goods as the median of both of them seem to be almost the same. \n",
    "\n",
    "A notable insight is that there seem to be larger spread of potential outliers in the married folks than in the single folks."
   ]
  },
  {
   "cell_type": "code",
   "execution_count": 14,
   "metadata": {},
   "outputs": [
    {
     "data": {
      "image/png": "[encoded data removed]",
      "text/plain": [
       "<Figure size 576x360 with 1 Axes>"
      ]
     },
     "metadata": {
      "needs_background": "light"
     },
     "output_type": "display_data"
    }
   ],
   "source": [
    "sns.boxplot(x = \"Stay_In_Current_City_Years\", y = \"Purchase\", data = train)\n",
    "plt.title(\"Stay in City-wise Purchases\")\n",
    "plt.show()"
   ]
  },
  {
   "cell_type": "markdown",
   "metadata": {},
   "source": [
    " **INTUITION FROM THE ABOVE GRAPH**\n",
    "\n",
    "Based on the stay in current city, there's no significant demarcation in the purchase amount of different people as the distribution is centered around the same value of around 7.5k currency units for all the different classes and the spread of data is also similar."
   ]
  },
  {
   "cell_type": "code",
   "execution_count": 15,
   "metadata": {},
   "outputs": [
    {
     "data": {
      "image/png": "[encoded data removed]",
      "text/plain": [
       "<Figure size 720x504 with 1 Axes>"
      ]
     },
     "metadata": {
      "needs_background": "light"
     },
     "output_type": "display_data"
    }
   ],
   "source": [
    "rcParams['figure.figsize'] = 10, 7\n",
    "sns.boxplot(x = \"Product_Category_1\", y = \"Purchase\", data = train)\n",
    "plt.title(\"Product Category-one-wise Purchases\")\n",
    "plt.show()"
   ]
  },
  {
   "cell_type": "markdown",
   "metadata": {},
   "source": [
    " **INTUITION FROM THE ABOVE GRAPH**\n",
    "\n",
    "This is an awesome category since it's giving almost a great demarcation between purchase of different groups of people. The medians of different categories are far apart from one another and that's a good quality for a predictor to have. "
   ]
  },
  {
   "cell_type": "code",
   "execution_count": 16,
   "metadata": {},
   "outputs": [
    {
     "data": {
      "image/png": "[encoded data removed]",
      "text/plain": [
       "<Figure size 720x504 with 1 Axes>"
      ]
     },
     "metadata": {
      "needs_background": "light"
     },
     "output_type": "display_data"
    }
   ],
   "source": [
    "sns.boxplot(x = \"Product_Category_2\", y = \"Purchase\", data = train)\n",
    "plt.title(\"Product Category-two-wise Purchases\")\n",
    "plt.show()"
   ]
  },
  {
   "cell_type": "markdown",
   "metadata": {},
   "source": [
    " **INTUITION FROM THE ABOVE GRAPH**\n",
    "\n",
    "This is a good category as it's providing a decent separation between purchase of different groups of people. The medians of different categories are far apart (not as much as product category 1) from one another. This will help in prediction of the purchases of the items."
   ]
  },
  {
   "cell_type": "code",
   "execution_count": 17,
   "metadata": {},
   "outputs": [
    {
     "data": {
      "image/png": "[encoded data removed]",
      "text/plain": [
       "<Figure size 720x504 with 1 Axes>"
      ]
     },
     "metadata": {
      "needs_background": "light"
     },
     "output_type": "display_data"
    }
   ],
   "source": [
    "sns.boxplot(x = \"Product_Category_3\", y = \"Purchase\", data = train)\n",
    "plt.title(\"Product Category-three-wise Purchases\")\n",
    "plt.show()"
   ]
  },
  {
   "cell_type": "markdown",
   "metadata": {},
   "source": [
    " **INTUITION FROM THE ABOVE GRAPH**\n",
    "\n",
    "This is a not so good a category as since every product's purchase value for different customers is almost within a similar range."
   ]
  },
  {
   "cell_type": "markdown",
   "metadata": {},
   "source": [
    "# Imputation\n",
    "\n",
    "We will try to do target encoding of product-categories 2 and 3 based on product-category-1. Let's see how we can accomplish that."
   ]
  },
  {
   "cell_type": "code",
   "execution_count": 18,
   "metadata": {
    "scrolled": false
   },
   "outputs": [
    {
     "data": {
      "text/plain": [
       "Product_Category_1       \n",
       "1                   734      18.0\n",
       "2                   837      18.0\n",
       "3                   2915     16.0\n",
       "4                   2946     18.0\n",
       "5                   142      18.0\n",
       "6                   332      16.0\n",
       "8                   30121    18.0\n",
       "10                  576      16.0\n",
       "11                  287      16.0\n",
       "12                  249      17.0\n",
       "13                  2607     16.0\n",
       "15                  2599     17.0\n",
       "Name: Product_Category_3, dtype: float64"
      ]
     },
     "execution_count": 18,
     "metadata": {},
     "output_type": "execute_result"
    }
   ],
   "source": [
    "train.groupby(by = ['Product_Category_1']).Product_Category_3.nlargest(1)"
   ]
  },
  {
   "cell_type": "code",
   "execution_count": 19,
   "metadata": {},
   "outputs": [],
   "source": [
    "prod2Substitute = pd.crosstab(train.Product_Category_1, train.Product_Category_2, dropna = False).idxmax(axis = 1).to_dict()\n",
    "prod3Substitute = pd.crosstab(train.Product_Category_1, train.Product_Category_3, dropna = False).idxmax(axis = 1).to_dict()"
   ]
  },
  {
   "cell_type": "code",
   "execution_count": 20,
   "metadata": {},
   "outputs": [
    {
     "data": {
      "text/html": [
       "<div>\n",
       "<style scoped>\n",
       "    .dataframe tbody tr th:only-of-type {\n",
       "        vertical-align: middle;\n",
       "    }\n",
       "\n",
       "    .dataframe tbody tr th {\n",
       "        vertical-align: top;\n",
       "    }\n",
       "\n",
       "    .dataframe thead th {\n",
       "        text-align: right;\n",
       "    }\n",
       "</style>\n",
       "<table border=\"1\" class=\"dataframe\">\n",
       "  <thead>\n",
       "    <tr style=\"text-align: right;\">\n",
       "      <th>Product_Category_2</th>\n",
       "      <th>2.0</th>\n",
       "      <th>3.0</th>\n",
       "      <th>4.0</th>\n",
       "      <th>5.0</th>\n",
       "      <th>6.0</th>\n",
       "      <th>7.0</th>\n",
       "      <th>8.0</th>\n",
       "      <th>9.0</th>\n",
       "      <th>10.0</th>\n",
       "      <th>11.0</th>\n",
       "      <th>12.0</th>\n",
       "      <th>13.0</th>\n",
       "      <th>14.0</th>\n",
       "      <th>15.0</th>\n",
       "      <th>16.0</th>\n",
       "      <th>17.0</th>\n",
       "      <th>18.0</th>\n",
       "    </tr>\n",
       "    <tr>\n",
       "      <th>Product_Category_1</th>\n",
       "      <th></th>\n",
       "      <th></th>\n",
       "      <th></th>\n",
       "      <th></th>\n",
       "      <th></th>\n",
       "      <th></th>\n",
       "      <th></th>\n",
       "      <th></th>\n",
       "      <th></th>\n",
       "      <th></th>\n",
       "      <th></th>\n",
       "      <th></th>\n",
       "      <th></th>\n",
       "      <th></th>\n",
       "      <th></th>\n",
       "      <th></th>\n",
       "      <th></th>\n",
       "    </tr>\n",
       "  </thead>\n",
       "  <tbody>\n",
       "    <tr>\n",
       "      <td>1</td>\n",
       "      <td>49217</td>\n",
       "      <td>119</td>\n",
       "      <td>685</td>\n",
       "      <td>11267</td>\n",
       "      <td>10644</td>\n",
       "      <td>0</td>\n",
       "      <td>15471</td>\n",
       "      <td>0</td>\n",
       "      <td>0</td>\n",
       "      <td>4836</td>\n",
       "      <td>0</td>\n",
       "      <td>1021</td>\n",
       "      <td>4568</td>\n",
       "      <td>18544</td>\n",
       "      <td>14828</td>\n",
       "      <td>1865</td>\n",
       "      <td>715</td>\n",
       "    </tr>\n",
       "    <tr>\n",
       "      <td>2</td>\n",
       "      <td>0</td>\n",
       "      <td>2765</td>\n",
       "      <td>8134</td>\n",
       "      <td>4153</td>\n",
       "      <td>187</td>\n",
       "      <td>0</td>\n",
       "      <td>2615</td>\n",
       "      <td>1514</td>\n",
       "      <td>0</td>\n",
       "      <td>0</td>\n",
       "      <td>144</td>\n",
       "      <td>0</td>\n",
       "      <td>488</td>\n",
       "      <td>1342</td>\n",
       "      <td>535</td>\n",
       "      <td>879</td>\n",
       "      <td>178</td>\n",
       "    </tr>\n",
       "    <tr>\n",
       "      <td>3</td>\n",
       "      <td>0</td>\n",
       "      <td>0</td>\n",
       "      <td>16858</td>\n",
       "      <td>2264</td>\n",
       "      <td>0</td>\n",
       "      <td>0</td>\n",
       "      <td>0</td>\n",
       "      <td>0</td>\n",
       "      <td>0</td>\n",
       "      <td>0</td>\n",
       "      <td>595</td>\n",
       "      <td>26</td>\n",
       "      <td>0</td>\n",
       "      <td>231</td>\n",
       "      <td>0</td>\n",
       "      <td>0</td>\n",
       "      <td>0</td>\n",
       "    </tr>\n",
       "    <tr>\n",
       "      <td>4</td>\n",
       "      <td>0</td>\n",
       "      <td>0</td>\n",
       "      <td>0</td>\n",
       "      <td>8551</td>\n",
       "      <td>0</td>\n",
       "      <td>0</td>\n",
       "      <td>2177</td>\n",
       "      <td>469</td>\n",
       "      <td>0</td>\n",
       "      <td>113</td>\n",
       "      <td>186</td>\n",
       "      <td>0</td>\n",
       "      <td>0</td>\n",
       "      <td>114</td>\n",
       "      <td>0</td>\n",
       "      <td>0</td>\n",
       "      <td>0</td>\n",
       "    </tr>\n",
       "    <tr>\n",
       "      <td>5</td>\n",
       "      <td>0</td>\n",
       "      <td>0</td>\n",
       "      <td>0</td>\n",
       "      <td>0</td>\n",
       "      <td>5635</td>\n",
       "      <td>626</td>\n",
       "      <td>31670</td>\n",
       "      <td>3292</td>\n",
       "      <td>2</td>\n",
       "      <td>6796</td>\n",
       "      <td>2894</td>\n",
       "      <td>1375</td>\n",
       "      <td>25588</td>\n",
       "      <td>5656</td>\n",
       "      <td>873</td>\n",
       "      <td>1490</td>\n",
       "      <td>1336</td>\n",
       "    </tr>\n",
       "    <tr>\n",
       "      <td>6</td>\n",
       "      <td>0</td>\n",
       "      <td>0</td>\n",
       "      <td>0</td>\n",
       "      <td>0</td>\n",
       "      <td>0</td>\n",
       "      <td>0</td>\n",
       "      <td>12071</td>\n",
       "      <td>0</td>\n",
       "      <td>2643</td>\n",
       "      <td>716</td>\n",
       "      <td>0</td>\n",
       "      <td>39</td>\n",
       "      <td>0</td>\n",
       "      <td>0</td>\n",
       "      <td>4004</td>\n",
       "      <td>0</td>\n",
       "      <td>0</td>\n",
       "    </tr>\n",
       "    <tr>\n",
       "      <td>7</td>\n",
       "      <td>0</td>\n",
       "      <td>0</td>\n",
       "      <td>0</td>\n",
       "      <td>0</td>\n",
       "      <td>0</td>\n",
       "      <td>0</td>\n",
       "      <td>84</td>\n",
       "      <td>0</td>\n",
       "      <td>0</td>\n",
       "      <td>0</td>\n",
       "      <td>118</td>\n",
       "      <td>0</td>\n",
       "      <td>0</td>\n",
       "      <td>0</td>\n",
       "      <td>0</td>\n",
       "      <td>98</td>\n",
       "      <td>0</td>\n",
       "    </tr>\n",
       "    <tr>\n",
       "      <td>8</td>\n",
       "      <td>0</td>\n",
       "      <td>0</td>\n",
       "      <td>0</td>\n",
       "      <td>0</td>\n",
       "      <td>0</td>\n",
       "      <td>0</td>\n",
       "      <td>0</td>\n",
       "      <td>418</td>\n",
       "      <td>398</td>\n",
       "      <td>1672</td>\n",
       "      <td>1591</td>\n",
       "      <td>5028</td>\n",
       "      <td>20771</td>\n",
       "      <td>4322</td>\n",
       "      <td>10512</td>\n",
       "      <td>7945</td>\n",
       "      <td>508</td>\n",
       "    </tr>\n",
       "    <tr>\n",
       "      <td>9</td>\n",
       "      <td>0</td>\n",
       "      <td>0</td>\n",
       "      <td>0</td>\n",
       "      <td>0</td>\n",
       "      <td>0</td>\n",
       "      <td>0</td>\n",
       "      <td>0</td>\n",
       "      <td>0</td>\n",
       "      <td>0</td>\n",
       "      <td>0</td>\n",
       "      <td>0</td>\n",
       "      <td>0</td>\n",
       "      <td>0</td>\n",
       "      <td>409</td>\n",
       "      <td>0</td>\n",
       "      <td>0</td>\n",
       "      <td>0</td>\n",
       "    </tr>\n",
       "    <tr>\n",
       "      <td>10</td>\n",
       "      <td>0</td>\n",
       "      <td>0</td>\n",
       "      <td>0</td>\n",
       "      <td>0</td>\n",
       "      <td>0</td>\n",
       "      <td>0</td>\n",
       "      <td>0</td>\n",
       "      <td>0</td>\n",
       "      <td>0</td>\n",
       "      <td>1</td>\n",
       "      <td>0</td>\n",
       "      <td>1880</td>\n",
       "      <td>240</td>\n",
       "      <td>1477</td>\n",
       "      <td>1071</td>\n",
       "      <td>0</td>\n",
       "      <td>0</td>\n",
       "    </tr>\n",
       "    <tr>\n",
       "      <td>11</td>\n",
       "      <td>0</td>\n",
       "      <td>0</td>\n",
       "      <td>0</td>\n",
       "      <td>0</td>\n",
       "      <td>0</td>\n",
       "      <td>0</td>\n",
       "      <td>0</td>\n",
       "      <td>0</td>\n",
       "      <td>0</td>\n",
       "      <td>0</td>\n",
       "      <td>0</td>\n",
       "      <td>1162</td>\n",
       "      <td>1004</td>\n",
       "      <td>4964</td>\n",
       "      <td>4786</td>\n",
       "      <td>0</td>\n",
       "      <td>0</td>\n",
       "    </tr>\n",
       "    <tr>\n",
       "      <td>12</td>\n",
       "      <td>0</td>\n",
       "      <td>0</td>\n",
       "      <td>0</td>\n",
       "      <td>0</td>\n",
       "      <td>0</td>\n",
       "      <td>0</td>\n",
       "      <td>0</td>\n",
       "      <td>0</td>\n",
       "      <td>0</td>\n",
       "      <td>0</td>\n",
       "      <td>0</td>\n",
       "      <td>0</td>\n",
       "      <td>1930</td>\n",
       "      <td>0</td>\n",
       "      <td>0</td>\n",
       "      <td>240</td>\n",
       "      <td>0</td>\n",
       "    </tr>\n",
       "    <tr>\n",
       "      <td>13</td>\n",
       "      <td>0</td>\n",
       "      <td>0</td>\n",
       "      <td>0</td>\n",
       "      <td>0</td>\n",
       "      <td>0</td>\n",
       "      <td>0</td>\n",
       "      <td>0</td>\n",
       "      <td>0</td>\n",
       "      <td>0</td>\n",
       "      <td>0</td>\n",
       "      <td>0</td>\n",
       "      <td>0</td>\n",
       "      <td>519</td>\n",
       "      <td>796</td>\n",
       "      <td>3608</td>\n",
       "      <td>0</td>\n",
       "      <td>0</td>\n",
       "    </tr>\n",
       "    <tr>\n",
       "      <td>14</td>\n",
       "      <td>0</td>\n",
       "      <td>0</td>\n",
       "      <td>0</td>\n",
       "      <td>0</td>\n",
       "      <td>0</td>\n",
       "      <td>0</td>\n",
       "      <td>0</td>\n",
       "      <td>0</td>\n",
       "      <td>0</td>\n",
       "      <td>0</td>\n",
       "      <td>0</td>\n",
       "      <td>0</td>\n",
       "      <td>0</td>\n",
       "      <td>0</td>\n",
       "      <td>321</td>\n",
       "      <td>66</td>\n",
       "      <td>33</td>\n",
       "    </tr>\n",
       "    <tr>\n",
       "      <td>15</td>\n",
       "      <td>0</td>\n",
       "      <td>0</td>\n",
       "      <td>0</td>\n",
       "      <td>0</td>\n",
       "      <td>0</td>\n",
       "      <td>0</td>\n",
       "      <td>0</td>\n",
       "      <td>0</td>\n",
       "      <td>0</td>\n",
       "      <td>0</td>\n",
       "      <td>0</td>\n",
       "      <td>0</td>\n",
       "      <td>0</td>\n",
       "      <td>0</td>\n",
       "      <td>2717</td>\n",
       "      <td>737</td>\n",
       "      <td>0</td>\n",
       "    </tr>\n",
       "  </tbody>\n",
       "</table>\n",
       "</div>"
      ],
      "text/plain": [
       "Product_Category_2   2.0   3.0    4.0    5.0    6.0   7.0    8.0   9.0   10.0  \\\n",
       "Product_Category_1                                                              \n",
       "1                   49217   119    685  11267  10644     0  15471     0     0   \n",
       "2                       0  2765   8134   4153    187     0   2615  1514     0   \n",
       "3                       0     0  16858   2264      0     0      0     0     0   \n",
       "4                       0     0      0   8551      0     0   2177   469     0   \n",
       "5                       0     0      0      0   5635   626  31670  3292     2   \n",
       "6                       0     0      0      0      0     0  12071     0  2643   \n",
       "7                       0     0      0      0      0     0     84     0     0   \n",
       "8                       0     0      0      0      0     0      0   418   398   \n",
       "9                       0     0      0      0      0     0      0     0     0   \n",
       "10                      0     0      0      0      0     0      0     0     0   \n",
       "11                      0     0      0      0      0     0      0     0     0   \n",
       "12                      0     0      0      0      0     0      0     0     0   \n",
       "13                      0     0      0      0      0     0      0     0     0   \n",
       "14                      0     0      0      0      0     0      0     0     0   \n",
       "15                      0     0      0      0      0     0      0     0     0   \n",
       "\n",
       "Product_Category_2  11.0  12.0  13.0   14.0   15.0   16.0  17.0  18.0  \n",
       "Product_Category_1                                                     \n",
       "1                   4836     0  1021   4568  18544  14828  1865   715  \n",
       "2                      0   144     0    488   1342    535   879   178  \n",
       "3                      0   595    26      0    231      0     0     0  \n",
       "4                    113   186     0      0    114      0     0     0  \n",
       "5                   6796  2894  1375  25588   5656    873  1490  1336  \n",
       "6                    716     0    39      0      0   4004     0     0  \n",
       "7                      0   118     0      0      0      0    98     0  \n",
       "8                   1672  1591  5028  20771   4322  10512  7945   508  \n",
       "9                      0     0     0      0    409      0     0     0  \n",
       "10                     1     0  1880    240   1477   1071     0     0  \n",
       "11                     0     0  1162   1004   4964   4786     0     0  \n",
       "12                     0     0     0   1930      0      0   240     0  \n",
       "13                     0     0     0    519    796   3608     0     0  \n",
       "14                     0     0     0      0      0    321    66    33  \n",
       "15                     0     0     0      0      0   2717   737     0  "
      ]
     },
     "execution_count": 20,
     "metadata": {},
     "output_type": "execute_result"
    }
   ],
   "source": [
    "pd.crosstab(train.Product_Category_1, train.Product_Category_2, dropna = False)#.idxmax(axis = 1).to_dict()"
   ]
  },
  {
   "cell_type": "code",
   "execution_count": 21,
   "metadata": {
    "scrolled": false
   },
   "outputs": [
    {
     "data": {
      "text/html": [
       "<div>\n",
       "<style scoped>\n",
       "    .dataframe tbody tr th:only-of-type {\n",
       "        vertical-align: middle;\n",
       "    }\n",
       "\n",
       "    .dataframe tbody tr th {\n",
       "        vertical-align: top;\n",
       "    }\n",
       "\n",
       "    .dataframe thead th {\n",
       "        text-align: right;\n",
       "    }\n",
       "</style>\n",
       "<table border=\"1\" class=\"dataframe\">\n",
       "  <thead>\n",
       "    <tr style=\"text-align: right;\">\n",
       "      <th>Product_Category_3</th>\n",
       "      <th>3.0</th>\n",
       "      <th>4.0</th>\n",
       "      <th>5.0</th>\n",
       "      <th>6.0</th>\n",
       "      <th>8.0</th>\n",
       "      <th>9.0</th>\n",
       "      <th>10.0</th>\n",
       "      <th>11.0</th>\n",
       "      <th>12.0</th>\n",
       "      <th>13.0</th>\n",
       "      <th>14.0</th>\n",
       "      <th>15.0</th>\n",
       "      <th>16.0</th>\n",
       "      <th>17.0</th>\n",
       "      <th>18.0</th>\n",
       "    </tr>\n",
       "    <tr>\n",
       "      <th>Product_Category_1</th>\n",
       "      <th></th>\n",
       "      <th></th>\n",
       "      <th></th>\n",
       "      <th></th>\n",
       "      <th></th>\n",
       "      <th></th>\n",
       "      <th></th>\n",
       "      <th></th>\n",
       "      <th></th>\n",
       "      <th></th>\n",
       "      <th></th>\n",
       "      <th></th>\n",
       "      <th></th>\n",
       "      <th></th>\n",
       "      <th></th>\n",
       "    </tr>\n",
       "  </thead>\n",
       "  <tbody>\n",
       "    <tr>\n",
       "      <td>1</td>\n",
       "      <td>613</td>\n",
       "      <td>643</td>\n",
       "      <td>7982</td>\n",
       "      <td>4890</td>\n",
       "      <td>8014</td>\n",
       "      <td>5621</td>\n",
       "      <td>0</td>\n",
       "      <td>1588</td>\n",
       "      <td>1091</td>\n",
       "      <td>2106</td>\n",
       "      <td>6429</td>\n",
       "      <td>21748</td>\n",
       "      <td>18567</td>\n",
       "      <td>9314</td>\n",
       "      <td>2536</td>\n",
       "    </tr>\n",
       "    <tr>\n",
       "      <td>2</td>\n",
       "      <td>0</td>\n",
       "      <td>1232</td>\n",
       "      <td>2022</td>\n",
       "      <td>0</td>\n",
       "      <td>2422</td>\n",
       "      <td>2679</td>\n",
       "      <td>989</td>\n",
       "      <td>0</td>\n",
       "      <td>438</td>\n",
       "      <td>0</td>\n",
       "      <td>1686</td>\n",
       "      <td>3451</td>\n",
       "      <td>567</td>\n",
       "      <td>0</td>\n",
       "      <td>823</td>\n",
       "    </tr>\n",
       "    <tr>\n",
       "      <td>3</td>\n",
       "      <td>0</td>\n",
       "      <td>0</td>\n",
       "      <td>6654</td>\n",
       "      <td>0</td>\n",
       "      <td>178</td>\n",
       "      <td>527</td>\n",
       "      <td>0</td>\n",
       "      <td>0</td>\n",
       "      <td>4707</td>\n",
       "      <td>0</td>\n",
       "      <td>0</td>\n",
       "      <td>0</td>\n",
       "      <td>396</td>\n",
       "      <td>0</td>\n",
       "      <td>0</td>\n",
       "    </tr>\n",
       "    <tr>\n",
       "      <td>4</td>\n",
       "      <td>0</td>\n",
       "      <td>0</td>\n",
       "      <td>0</td>\n",
       "      <td>0</td>\n",
       "      <td>1079</td>\n",
       "      <td>2115</td>\n",
       "      <td>0</td>\n",
       "      <td>0</td>\n",
       "      <td>1190</td>\n",
       "      <td>113</td>\n",
       "      <td>0</td>\n",
       "      <td>671</td>\n",
       "      <td>0</td>\n",
       "      <td>0</td>\n",
       "      <td>181</td>\n",
       "    </tr>\n",
       "    <tr>\n",
       "      <td>5</td>\n",
       "      <td>0</td>\n",
       "      <td>0</td>\n",
       "      <td>0</td>\n",
       "      <td>0</td>\n",
       "      <td>869</td>\n",
       "      <td>637</td>\n",
       "      <td>0</td>\n",
       "      <td>217</td>\n",
       "      <td>1820</td>\n",
       "      <td>601</td>\n",
       "      <td>8660</td>\n",
       "      <td>270</td>\n",
       "      <td>2621</td>\n",
       "      <td>2245</td>\n",
       "      <td>1071</td>\n",
       "    </tr>\n",
       "    <tr>\n",
       "      <td>6</td>\n",
       "      <td>0</td>\n",
       "      <td>0</td>\n",
       "      <td>0</td>\n",
       "      <td>0</td>\n",
       "      <td>0</td>\n",
       "      <td>0</td>\n",
       "      <td>737</td>\n",
       "      <td>0</td>\n",
       "      <td>0</td>\n",
       "      <td>2639</td>\n",
       "      <td>1104</td>\n",
       "      <td>871</td>\n",
       "      <td>3047</td>\n",
       "      <td>0</td>\n",
       "      <td>0</td>\n",
       "    </tr>\n",
       "    <tr>\n",
       "      <td>8</td>\n",
       "      <td>0</td>\n",
       "      <td>0</td>\n",
       "      <td>0</td>\n",
       "      <td>0</td>\n",
       "      <td>0</td>\n",
       "      <td>0</td>\n",
       "      <td>0</td>\n",
       "      <td>0</td>\n",
       "      <td>0</td>\n",
       "      <td>0</td>\n",
       "      <td>549</td>\n",
       "      <td>1002</td>\n",
       "      <td>2666</td>\n",
       "      <td>4833</td>\n",
       "      <td>18</td>\n",
       "    </tr>\n",
       "    <tr>\n",
       "      <td>10</td>\n",
       "      <td>0</td>\n",
       "      <td>0</td>\n",
       "      <td>0</td>\n",
       "      <td>0</td>\n",
       "      <td>0</td>\n",
       "      <td>0</td>\n",
       "      <td>0</td>\n",
       "      <td>0</td>\n",
       "      <td>0</td>\n",
       "      <td>0</td>\n",
       "      <td>0</td>\n",
       "      <td>0</td>\n",
       "      <td>1755</td>\n",
       "      <td>0</td>\n",
       "      <td>0</td>\n",
       "    </tr>\n",
       "    <tr>\n",
       "      <td>11</td>\n",
       "      <td>0</td>\n",
       "      <td>0</td>\n",
       "      <td>0</td>\n",
       "      <td>0</td>\n",
       "      <td>0</td>\n",
       "      <td>0</td>\n",
       "      <td>0</td>\n",
       "      <td>0</td>\n",
       "      <td>0</td>\n",
       "      <td>0</td>\n",
       "      <td>0</td>\n",
       "      <td>0</td>\n",
       "      <td>1961</td>\n",
       "      <td>0</td>\n",
       "      <td>0</td>\n",
       "    </tr>\n",
       "    <tr>\n",
       "      <td>12</td>\n",
       "      <td>0</td>\n",
       "      <td>0</td>\n",
       "      <td>0</td>\n",
       "      <td>0</td>\n",
       "      <td>0</td>\n",
       "      <td>0</td>\n",
       "      <td>0</td>\n",
       "      <td>0</td>\n",
       "      <td>0</td>\n",
       "      <td>0</td>\n",
       "      <td>0</td>\n",
       "      <td>0</td>\n",
       "      <td>0</td>\n",
       "      <td>159</td>\n",
       "      <td>0</td>\n",
       "    </tr>\n",
       "    <tr>\n",
       "      <td>13</td>\n",
       "      <td>0</td>\n",
       "      <td>0</td>\n",
       "      <td>0</td>\n",
       "      <td>0</td>\n",
       "      <td>0</td>\n",
       "      <td>0</td>\n",
       "      <td>0</td>\n",
       "      <td>0</td>\n",
       "      <td>0</td>\n",
       "      <td>0</td>\n",
       "      <td>0</td>\n",
       "      <td>0</td>\n",
       "      <td>1056</td>\n",
       "      <td>0</td>\n",
       "      <td>0</td>\n",
       "    </tr>\n",
       "    <tr>\n",
       "      <td>15</td>\n",
       "      <td>0</td>\n",
       "      <td>0</td>\n",
       "      <td>0</td>\n",
       "      <td>0</td>\n",
       "      <td>0</td>\n",
       "      <td>0</td>\n",
       "      <td>0</td>\n",
       "      <td>0</td>\n",
       "      <td>0</td>\n",
       "      <td>0</td>\n",
       "      <td>0</td>\n",
       "      <td>0</td>\n",
       "      <td>0</td>\n",
       "      <td>151</td>\n",
       "      <td>0</td>\n",
       "    </tr>\n",
       "  </tbody>\n",
       "</table>\n",
       "</div>"
      ],
      "text/plain": [
       "Product_Category_3  3.0   4.0   5.0   6.0   8.0   9.0   10.0  11.0  12.0  \\\n",
       "Product_Category_1                                                         \n",
       "1                    613   643  7982  4890  8014  5621     0  1588  1091   \n",
       "2                      0  1232  2022     0  2422  2679   989     0   438   \n",
       "3                      0     0  6654     0   178   527     0     0  4707   \n",
       "4                      0     0     0     0  1079  2115     0     0  1190   \n",
       "5                      0     0     0     0   869   637     0   217  1820   \n",
       "6                      0     0     0     0     0     0   737     0     0   \n",
       "8                      0     0     0     0     0     0     0     0     0   \n",
       "10                     0     0     0     0     0     0     0     0     0   \n",
       "11                     0     0     0     0     0     0     0     0     0   \n",
       "12                     0     0     0     0     0     0     0     0     0   \n",
       "13                     0     0     0     0     0     0     0     0     0   \n",
       "15                     0     0     0     0     0     0     0     0     0   \n",
       "\n",
       "Product_Category_3  13.0  14.0   15.0   16.0  17.0  18.0  \n",
       "Product_Category_1                                        \n",
       "1                   2106  6429  21748  18567  9314  2536  \n",
       "2                      0  1686   3451    567     0   823  \n",
       "3                      0     0      0    396     0     0  \n",
       "4                    113     0    671      0     0   181  \n",
       "5                    601  8660    270   2621  2245  1071  \n",
       "6                   2639  1104    871   3047     0     0  \n",
       "8                      0   549   1002   2666  4833    18  \n",
       "10                     0     0      0   1755     0     0  \n",
       "11                     0     0      0   1961     0     0  \n",
       "12                     0     0      0      0   159     0  \n",
       "13                     0     0      0   1056     0     0  \n",
       "15                     0     0      0      0   151     0  "
      ]
     },
     "execution_count": 21,
     "metadata": {},
     "output_type": "execute_result"
    }
   ],
   "source": [
    "pd.crosstab(train.Product_Category_1, train.Product_Category_3, dropna = False)#.idxmax(axis = 1).to_dict()"
   ]
  },
  {
   "cell_type": "code",
   "execution_count": 22,
   "metadata": {},
   "outputs": [
    {
     "data": {
      "text/plain": [
       "array([ 3,  1, 12,  8,  5,  4,  2,  6, 14, 11, 13, 15,  7, 16, 18, 10, 17,\n",
       "        9, 20, 19], dtype=int64)"
      ]
     },
     "execution_count": 22,
     "metadata": {},
     "output_type": "execute_result"
    }
   ],
   "source": [
    "train.Product_Category_1.unique()"
   ]
  },
  {
   "cell_type": "code",
   "execution_count": 23,
   "metadata": {},
   "outputs": [],
   "source": [
    "dont_check_prod_2 = [1,7,9,14,16,17,18,19,20]"
   ]
  },
  {
   "cell_type": "markdown",
   "metadata": {},
   "source": [
    "From the crosstab we can see that for products with product_category_1 7,9,14 there's no datapoint which has any non-nan value for these datapoints. Hence, they cannot be mode imputed based on product_category_1. "
   ]
  },
  {
   "cell_type": "code",
   "execution_count": 24,
   "metadata": {},
   "outputs": [],
   "source": [
    "l = [0] * train.shape[0]\n",
    "m = [0] * train.shape[0]"
   ]
  },
  {
   "cell_type": "code",
   "execution_count": 25,
   "metadata": {},
   "outputs": [],
   "source": [
    "for i in train[(train.Product_Category_2.isnull()) | (train.Product_Category_3.isnull())].index:\n",
    "    prod1 = train.Product_Category_1[i]\n",
    "    # Impute the category 2 with respect to mode of category 1 values\n",
    "    if np.isnan(train.Product_Category_2[i]) & (prod1 <= 15):\n",
    "        to_sub = prod2Substitute[prod1]\n",
    "        l[i] = to_sub\n",
    "    else:\n",
    "        l[i] = train.iloc[i,9]\n",
    "        \n",
    "    #Impute the category 3 with respect to mode of category 1 values\n",
    "    if np.isnan(train.Product_Category_3[i]) & (prod1 not in dont_check_prod_2):\n",
    "        to_sub = prod3Substitute[prod1] \n",
    "        m[i] = to_sub\n",
    "    else:\n",
    "        m[i] = train.iloc[i,10]"
   ]
  },
  {
   "cell_type": "code",
   "execution_count": 26,
   "metadata": {},
   "outputs": [],
   "source": [
    "train.Product_Category_2 = l\n",
    "train.Product_Category_3 = m"
   ]
  },
  {
   "cell_type": "code",
   "execution_count": 27,
   "metadata": {},
   "outputs": [
    {
     "name": "stdout",
     "output_type": "stream",
     "text": [
      "User_ID                        0.00\n",
      "Product_ID                     0.00\n",
      "Gender                         0.00\n",
      "Age                            0.00\n",
      "Occupation                     0.00\n",
      "City_Category                  0.00\n",
      "Stay_In_Current_City_Years     0.00\n",
      "Marital_Status                 0.00\n",
      "Product_Category_1             0.00\n",
      "Product_Category_2             3.21\n",
      "Product_Category_3            13.19\n",
      "Purchase                       0.00\n",
      "dtype: float64\n"
     ]
    }
   ],
   "source": [
    "print(np.round(100 * train.isnull().sum() / train.shape[0], 2))"
   ]
  },
  {
   "cell_type": "code",
   "execution_count": 28,
   "metadata": {},
   "outputs": [
    {
     "data": {
      "text/plain": [
       "Index(['User_ID', 'Product_ID', 'Gender', 'Age', 'Occupation', 'City_Category',\n",
       "       'Stay_In_Current_City_Years', 'Marital_Status', 'Product_Category_1',\n",
       "       'Product_Category_2', 'Product_Category_3'],\n",
       "      dtype='object')"
      ]
     },
     "execution_count": 28,
     "metadata": {},
     "output_type": "execute_result"
    }
   ],
   "source": [
    "test.columns"
   ]
  },
  {
   "cell_type": "code",
   "execution_count": 29,
   "metadata": {},
   "outputs": [],
   "source": [
    "# Do with test what was done with train\n",
    "l = [0] * test.shape[0]\n",
    "m = [0] * test.shape[0]\n",
    "\n",
    "for i in test[(test.Product_Category_2.isnull()) | (test.Product_Category_3.isnull())].index:\n",
    "    try:\n",
    "        prod1 = test.Product_Category_1[i]\n",
    "        # Impute the category 2 with respect to mode of category 1 values\n",
    "        if np.isnan(test.Product_Category_2[i]) & (prod1 <= 15):\n",
    "            to_sub = prod2Substitute[prod1]\n",
    "            l[i] = to_sub\n",
    "        else:\n",
    "            l[i] = test.iloc[i,9]\n",
    "    except:\n",
    "        l[i] = np.nan\n",
    "        pass\n",
    "    \n",
    "    try:\n",
    "        #Impute the category 3 with respect to mode of category 1 values\n",
    "        if np.isnan(test.Product_Category_3[i]) & (prod1 not in dont_check_prod_2):\n",
    "            to_sub = prod3Substitute[prod1] \n",
    "            m[i] = to_sub\n",
    "        else:\n",
    "            m[i] = test.iloc[i,10]\n",
    "    except:\n",
    "        m[i] = np.nan\n",
    "        pass\n",
    "\n",
    "test.Product_Category_2 = l\n",
    "test.Product_Category_3 = m"
   ]
  },
  {
   "cell_type": "code",
   "execution_count": 30,
   "metadata": {},
   "outputs": [
    {
     "data": {
      "text/plain": [
       "User_ID                        0.00\n",
       "Product_ID                     0.00\n",
       "Gender                         0.00\n",
       "Age                            0.00\n",
       "Occupation                     0.00\n",
       "City_Category                  0.00\n",
       "Stay_In_Current_City_Years     0.00\n",
       "Marital_Status                 0.00\n",
       "Product_Category_1             0.00\n",
       "Product_Category_2             2.41\n",
       "Product_Category_3            12.55\n",
       "dtype: float64"
      ]
     },
     "execution_count": 30,
     "metadata": {},
     "output_type": "execute_result"
    }
   ],
   "source": [
    "np.round( 100 * test.isnull().sum()/test.shape[0], 2)"
   ]
  },
  {
   "cell_type": "code",
   "execution_count": 31,
   "metadata": {},
   "outputs": [
    {
     "data": {
      "text/plain": [
       "User_ID                       0.0\n",
       "Product_ID                    0.0\n",
       "Gender                        0.0\n",
       "Age                           0.0\n",
       "Occupation                    0.0\n",
       "City_Category                 0.0\n",
       "Stay_In_Current_City_Years    0.0\n",
       "Marital_Status                0.0\n",
       "Product_Category_1            0.0\n",
       "Product_Category_2            0.0\n",
       "Product_Category_3            0.0\n",
       "dtype: float64"
      ]
     },
     "execution_count": 31,
     "metadata": {},
     "output_type": "execute_result"
    }
   ],
   "source": [
    "# Mode encode remaining null values in test\n",
    "test['Product_Category_2'].fillna(test['Product_Category_2'].mode()[0], inplace=True)\n",
    "test['Product_Category_3'].fillna(test['Product_Category_3'].mode()[0], inplace=True)\n",
    "np.round( 100 * test.isnull().sum()/test.shape[0], 2)"
   ]
  },
  {
   "cell_type": "code",
   "execution_count": 32,
   "metadata": {},
   "outputs": [
    {
     "data": {
      "text/plain": [
       "(550068, 12)"
      ]
     },
     "execution_count": 32,
     "metadata": {},
     "output_type": "execute_result"
    }
   ],
   "source": [
    "# Mode encode null values in train\n",
    "train['Product_Category_2'].fillna(train['Product_Category_2'].mode()[0], inplace=True)\n",
    "train['Product_Category_3'].fillna(train['Product_Category_3'].mode()[0], inplace=True)\n",
    "train.shape"
   ]
  },
  {
   "cell_type": "code",
   "execution_count": 33,
   "metadata": {},
   "outputs": [
    {
     "data": {
      "text/plain": [
       "User_ID                       0\n",
       "Product_ID                    0\n",
       "Gender                        0\n",
       "Age                           0\n",
       "Occupation                    0\n",
       "City_Category                 0\n",
       "Stay_In_Current_City_Years    0\n",
       "Marital_Status                0\n",
       "Product_Category_1            0\n",
       "Product_Category_2            0\n",
       "Product_Category_3            0\n",
       "Purchase                      0\n",
       "dtype: int64"
      ]
     },
     "execution_count": 33,
     "metadata": {},
     "output_type": "execute_result"
    }
   ],
   "source": [
    "np.round(train.isnull().sum(), 2)"
   ]
  },
  {
   "cell_type": "markdown",
   "metadata": {},
   "source": [
    "# Feature Addition\n",
    "\n",
    "Engineer a feature based on product category 1. This feature will be mean purchase price for a particular Product_ID. Possibly some product_IDs that are in test may not be in train but since that fraction is miniscule i.e. less than a fraction of a percent, we can add this column and impute the feature later on. "
   ]
  },
  {
   "cell_type": "code",
   "execution_count": 34,
   "metadata": {},
   "outputs": [],
   "source": [
    "sub_dict = train.groupby(by = ['Product_ID'])['Purchase'].mean().to_dict()\n",
    "\n",
    "l = []\n",
    "m = []\n",
    "\n",
    "for i in train.Product_ID:\n",
    "    if i in sub_dict.keys():\n",
    "        l.append(sub_dict[i])\n",
    "    else:\n",
    "        l.append(np.nan)\n",
    "    \n",
    "for j in test.Product_ID:\n",
    "    if j in sub_dict.keys():\n",
    "        m.append(sub_dict[j])\n",
    "    else:\n",
    "        m.append(np.nan)\n",
    "\n",
    "train['AvgPrice'] = l\n",
    "test['AvgPrice'] = m"
   ]
  },
  {
   "cell_type": "code",
   "execution_count": 35,
   "metadata": {},
   "outputs": [
    {
     "name": "stdout",
     "output_type": "stream",
     "text": [
      "7827.080459770115 7785.07476635514\n"
     ]
    }
   ],
   "source": [
    "print(test.AvgPrice.median(), train.AvgPrice.median())\n",
    "test['AvgPrice'].fillna(train.AvgPrice.median(), inplace=True)"
   ]
  },
  {
   "cell_type": "markdown",
   "metadata": {},
   "source": [
    "# Dummification of categorical columns"
   ]
  },
  {
   "cell_type": "code",
   "execution_count": 36,
   "metadata": {},
   "outputs": [],
   "source": [
    "cat_cols = []\n",
    "for i in train.columns:\n",
    "    if not i in [\"AvgPrice\",\"Purchase\", 'User_ID', 'Product_ID']:\n",
    "        cat_cols.append(i)"
   ]
  },
  {
   "cell_type": "code",
   "execution_count": 37,
   "metadata": {},
   "outputs": [
    {
     "data": {
      "text/plain": [
       "User_ID                        5891\n",
       "Product_ID                     3631\n",
       "Gender                            2\n",
       "Age                               7\n",
       "Occupation                       21\n",
       "City_Category                     3\n",
       "Stay_In_Current_City_Years        5\n",
       "Marital_Status                    2\n",
       "Product_Category_1               20\n",
       "Product_Category_2               17\n",
       "Product_Category_3                7\n",
       "Purchase                      18105\n",
       "AvgPrice                       3625\n",
       "dtype: int64"
      ]
     },
     "execution_count": 37,
     "metadata": {},
     "output_type": "execute_result"
    }
   ],
   "source": [
    "train.nunique()"
   ]
  },
  {
   "cell_type": "code",
   "execution_count": 38,
   "metadata": {},
   "outputs": [
    {
     "data": {
      "text/plain": [
       "User_ID                       5891\n",
       "Product_ID                    3491\n",
       "Gender                           2\n",
       "Age                              7\n",
       "Occupation                      21\n",
       "City_Category                    3\n",
       "Stay_In_Current_City_Years       5\n",
       "Marital_Status                   2\n",
       "Product_Category_1              18\n",
       "Product_Category_2              17\n",
       "Product_Category_3               7\n",
       "AvgPrice                      3445\n",
       "dtype: int64"
      ]
     },
     "execution_count": 38,
     "metadata": {},
     "output_type": "execute_result"
    }
   ],
   "source": [
    "test.nunique()"
   ]
  },
  {
   "cell_type": "markdown",
   "metadata": {},
   "source": [
    "Drop userid and product id from our data "
   ]
  },
  {
   "cell_type": "code",
   "execution_count": 39,
   "metadata": {},
   "outputs": [],
   "source": [
    "# User_ID\n",
    "train.set_index(train['User_ID'], inplace = True)\n",
    "test.set_index(test['User_ID'], inplace = True)\n",
    "\n",
    "train.drop(columns = ['User_ID', 'Product_ID'], axis = 1, inplace = True)\n",
    "test.drop(columns = ['User_ID','Product_ID'], axis = 1, inplace = True)"
   ]
  },
  {
   "cell_type": "code",
   "execution_count": 40,
   "metadata": {},
   "outputs": [],
   "source": [
    "train = pd.get_dummies(data = train, columns = cat_cols, drop_first = True)\n",
    "test = pd.get_dummies(data = test, columns = cat_cols, drop_first = True)"
   ]
  },
  {
   "cell_type": "code",
   "execution_count": 41,
   "metadata": {},
   "outputs": [
    {
     "data": {
      "text/html": [
       "<div>\n",
       "<style scoped>\n",
       "    .dataframe tbody tr th:only-of-type {\n",
       "        vertical-align: middle;\n",
       "    }\n",
       "\n",
       "    .dataframe tbody tr th {\n",
       "        vertical-align: top;\n",
       "    }\n",
       "\n",
       "    .dataframe thead th {\n",
       "        text-align: right;\n",
       "    }\n",
       "</style>\n",
       "<table border=\"1\" class=\"dataframe\">\n",
       "  <thead>\n",
       "    <tr style=\"text-align: right;\">\n",
       "      <th></th>\n",
       "      <th>Purchase</th>\n",
       "      <th>AvgPrice</th>\n",
       "      <th>Gender_M</th>\n",
       "      <th>Age_18-25</th>\n",
       "      <th>Age_26-35</th>\n",
       "      <th>Age_36-45</th>\n",
       "      <th>Age_46-50</th>\n",
       "      <th>Age_51-55</th>\n",
       "      <th>Age_55+</th>\n",
       "      <th>Occupation_1</th>\n",
       "      <th>...</th>\n",
       "      <th>Product_Category_2_15.0</th>\n",
       "      <th>Product_Category_2_16.0</th>\n",
       "      <th>Product_Category_2_17.0</th>\n",
       "      <th>Product_Category_2_18.0</th>\n",
       "      <th>Product_Category_3_5.0</th>\n",
       "      <th>Product_Category_3_9.0</th>\n",
       "      <th>Product_Category_3_14.0</th>\n",
       "      <th>Product_Category_3_15.0</th>\n",
       "      <th>Product_Category_3_16.0</th>\n",
       "      <th>Product_Category_3_17.0</th>\n",
       "    </tr>\n",
       "    <tr>\n",
       "      <th>User_ID</th>\n",
       "      <th></th>\n",
       "      <th></th>\n",
       "      <th></th>\n",
       "      <th></th>\n",
       "      <th></th>\n",
       "      <th></th>\n",
       "      <th></th>\n",
       "      <th></th>\n",
       "      <th></th>\n",
       "      <th></th>\n",
       "      <th></th>\n",
       "      <th></th>\n",
       "      <th></th>\n",
       "      <th></th>\n",
       "      <th></th>\n",
       "      <th></th>\n",
       "      <th></th>\n",
       "      <th></th>\n",
       "      <th></th>\n",
       "      <th></th>\n",
       "      <th></th>\n",
       "    </tr>\n",
       "  </thead>\n",
       "  <tbody>\n",
       "    <tr>\n",
       "      <td>1000001</td>\n",
       "      <td>8370</td>\n",
       "      <td>11870.863436</td>\n",
       "      <td>0</td>\n",
       "      <td>0</td>\n",
       "      <td>0</td>\n",
       "      <td>0</td>\n",
       "      <td>0</td>\n",
       "      <td>0</td>\n",
       "      <td>0</td>\n",
       "      <td>0</td>\n",
       "      <td>...</td>\n",
       "      <td>0</td>\n",
       "      <td>0</td>\n",
       "      <td>0</td>\n",
       "      <td>0</td>\n",
       "      <td>1</td>\n",
       "      <td>0</td>\n",
       "      <td>0</td>\n",
       "      <td>0</td>\n",
       "      <td>0</td>\n",
       "      <td>0</td>\n",
       "    </tr>\n",
       "    <tr>\n",
       "      <td>1000001</td>\n",
       "      <td>15200</td>\n",
       "      <td>16304.030981</td>\n",
       "      <td>0</td>\n",
       "      <td>0</td>\n",
       "      <td>0</td>\n",
       "      <td>0</td>\n",
       "      <td>0</td>\n",
       "      <td>0</td>\n",
       "      <td>0</td>\n",
       "      <td>0</td>\n",
       "      <td>...</td>\n",
       "      <td>0</td>\n",
       "      <td>0</td>\n",
       "      <td>0</td>\n",
       "      <td>0</td>\n",
       "      <td>0</td>\n",
       "      <td>0</td>\n",
       "      <td>0</td>\n",
       "      <td>0</td>\n",
       "      <td>0</td>\n",
       "      <td>0</td>\n",
       "    </tr>\n",
       "    <tr>\n",
       "      <td>1000001</td>\n",
       "      <td>1422</td>\n",
       "      <td>1237.892157</td>\n",
       "      <td>0</td>\n",
       "      <td>0</td>\n",
       "      <td>0</td>\n",
       "      <td>0</td>\n",
       "      <td>0</td>\n",
       "      <td>0</td>\n",
       "      <td>0</td>\n",
       "      <td>0</td>\n",
       "      <td>...</td>\n",
       "      <td>0</td>\n",
       "      <td>0</td>\n",
       "      <td>0</td>\n",
       "      <td>0</td>\n",
       "      <td>0</td>\n",
       "      <td>0</td>\n",
       "      <td>0</td>\n",
       "      <td>0</td>\n",
       "      <td>0</td>\n",
       "      <td>1</td>\n",
       "    </tr>\n",
       "    <tr>\n",
       "      <td>1000001</td>\n",
       "      <td>1057</td>\n",
       "      <td>1455.140762</td>\n",
       "      <td>0</td>\n",
       "      <td>0</td>\n",
       "      <td>0</td>\n",
       "      <td>0</td>\n",
       "      <td>0</td>\n",
       "      <td>0</td>\n",
       "      <td>0</td>\n",
       "      <td>0</td>\n",
       "      <td>...</td>\n",
       "      <td>0</td>\n",
       "      <td>0</td>\n",
       "      <td>0</td>\n",
       "      <td>0</td>\n",
       "      <td>0</td>\n",
       "      <td>0</td>\n",
       "      <td>0</td>\n",
       "      <td>0</td>\n",
       "      <td>0</td>\n",
       "      <td>1</td>\n",
       "    </tr>\n",
       "    <tr>\n",
       "      <td>1000002</td>\n",
       "      <td>7969</td>\n",
       "      <td>7692.763547</td>\n",
       "      <td>1</td>\n",
       "      <td>0</td>\n",
       "      <td>0</td>\n",
       "      <td>0</td>\n",
       "      <td>0</td>\n",
       "      <td>0</td>\n",
       "      <td>1</td>\n",
       "      <td>0</td>\n",
       "      <td>...</td>\n",
       "      <td>0</td>\n",
       "      <td>0</td>\n",
       "      <td>0</td>\n",
       "      <td>0</td>\n",
       "      <td>0</td>\n",
       "      <td>0</td>\n",
       "      <td>0</td>\n",
       "      <td>0</td>\n",
       "      <td>0</td>\n",
       "      <td>1</td>\n",
       "    </tr>\n",
       "  </tbody>\n",
       "</table>\n",
       "<p>5 rows × 77 columns</p>\n",
       "</div>"
      ],
      "text/plain": [
       "         Purchase      AvgPrice  Gender_M  Age_18-25  Age_26-35  Age_36-45  \\\n",
       "User_ID                                                                      \n",
       "1000001      8370  11870.863436         0          0          0          0   \n",
       "1000001     15200  16304.030981         0          0          0          0   \n",
       "1000001      1422   1237.892157         0          0          0          0   \n",
       "1000001      1057   1455.140762         0          0          0          0   \n",
       "1000002      7969   7692.763547         1          0          0          0   \n",
       "\n",
       "         Age_46-50  Age_51-55  Age_55+  Occupation_1  ...  \\\n",
       "User_ID                                               ...   \n",
       "1000001          0          0        0             0  ...   \n",
       "1000001          0          0        0             0  ...   \n",
       "1000001          0          0        0             0  ...   \n",
       "1000001          0          0        0             0  ...   \n",
       "1000002          0          0        1             0  ...   \n",
       "\n",
       "         Product_Category_2_15.0  Product_Category_2_16.0  \\\n",
       "User_ID                                                     \n",
       "1000001                        0                        0   \n",
       "1000001                        0                        0   \n",
       "1000001                        0                        0   \n",
       "1000001                        0                        0   \n",
       "1000002                        0                        0   \n",
       "\n",
       "         Product_Category_2_17.0  Product_Category_2_18.0  \\\n",
       "User_ID                                                     \n",
       "1000001                        0                        0   \n",
       "1000001                        0                        0   \n",
       "1000001                        0                        0   \n",
       "1000001                        0                        0   \n",
       "1000002                        0                        0   \n",
       "\n",
       "         Product_Category_3_5.0  Product_Category_3_9.0  \\\n",
       "User_ID                                                   \n",
       "1000001                       1                       0   \n",
       "1000001                       0                       0   \n",
       "1000001                       0                       0   \n",
       "1000001                       0                       0   \n",
       "1000002                       0                       0   \n",
       "\n",
       "         Product_Category_3_14.0  Product_Category_3_15.0  \\\n",
       "User_ID                                                     \n",
       "1000001                        0                        0   \n",
       "1000001                        0                        0   \n",
       "1000001                        0                        0   \n",
       "1000001                        0                        0   \n",
       "1000002                        0                        0   \n",
       "\n",
       "         Product_Category_3_16.0  Product_Category_3_17.0  \n",
       "User_ID                                                    \n",
       "1000001                        0                        0  \n",
       "1000001                        0                        0  \n",
       "1000001                        0                        1  \n",
       "1000001                        0                        1  \n",
       "1000002                        0                        1  \n",
       "\n",
       "[5 rows x 77 columns]"
      ]
     },
     "execution_count": 41,
     "metadata": {},
     "output_type": "execute_result"
    }
   ],
   "source": [
    "train.head()"
   ]
  },
  {
   "cell_type": "code",
   "execution_count": 42,
   "metadata": {},
   "outputs": [
    {
     "name": "stdout",
     "output_type": "stream",
     "text": [
      "['Product_Category_1_20', 'Product_Category_1_19'] []\n",
      "(233599, 74)\n",
      "(550068, 75)\n"
     ]
    }
   ],
   "source": [
    "test_not_train = list(set(test.columns).difference(set(train.columns)))\n",
    "train_not_test = list(set(train.columns).difference(set(test.columns)))\n",
    "train_not_test.remove('Purchase')\n",
    "\n",
    "print(train_not_test, test_not_train)\n",
    "\n",
    "train.drop(columns = train_not_test, inplace = True)\n",
    "print(test.shape)\n",
    "print(train.shape)"
   ]
  },
  {
   "cell_type": "markdown",
   "metadata": {},
   "source": [
    "# Train - Test Split"
   ]
  },
  {
   "cell_type": "code",
   "execution_count": 43,
   "metadata": {},
   "outputs": [],
   "source": [
    "from sklearn.model_selection import train_test_split\n",
    "X_train, X_val, y_train, y_val = train_test_split(train.drop(columns = ['Purchase']), train['Purchase'], test_size = 0.25, random_state = 0)"
   ]
  },
  {
   "cell_type": "markdown",
   "metadata": {},
   "source": [
    "# Linear Regression"
   ]
  },
  {
   "cell_type": "code",
   "execution_count": 44,
   "metadata": {},
   "outputs": [],
   "source": [
    "from sklearn.linear_model import LinearRegression"
   ]
  },
  {
   "cell_type": "code",
   "execution_count": 45,
   "metadata": {},
   "outputs": [],
   "source": [
    "LR = LinearRegression().fit(X_train, y_train)"
   ]
  },
  {
   "cell_type": "code",
   "execution_count": 46,
   "metadata": {},
   "outputs": [],
   "source": [
    "from sklearn.metrics import mean_squared_error, mean_absolute_error\n",
    "y_pred = LR.predict(X_val)"
   ]
  },
  {
   "cell_type": "code",
   "execution_count": 47,
   "metadata": {},
   "outputs": [
    {
     "name": "stdout",
     "output_type": "stream",
     "text": [
      "\n",
      "linear model intercept (b): -100.664\n",
      "\n",
      "R-squared score (training): 0.722\n",
      "\n"
     ]
    },
    {
     "data": {
      "text/plain": [
       "2631.292182134582"
      ]
     },
     "execution_count": 47,
     "metadata": {},
     "output_type": "execute_result"
    }
   ],
   "source": [
    "print('\\nlinear model intercept (b): {:.3f}\\n'\n",
    "     .format(LR.intercept_))\n",
    "print('R-squared score (training): {:.3f}\\n'\n",
    "     .format(LR.score(X_train, y_train)))\n",
    "from math import sqrt\n",
    "LR_rmse = sqrt(mean_squared_error(y_val, y_pred))\n",
    "LR_mae = mean_absolute_error(y_val, y_pred)\n",
    "LR_rmse"
   ]
  },
  {
   "cell_type": "code",
   "execution_count": 48,
   "metadata": {},
   "outputs": [],
   "source": [
    "mape = 0\n",
    "count = 0\n",
    "for i,j in zip(list(y_val), list(y_pred)):\n",
    "    error = abs(i - j)/i\n",
    "    mape = mape + error\n",
    "    count = count + 1\n",
    "mape = 100 * mape / len(y_train) "
   ]
  },
  {
   "cell_type": "code",
   "execution_count": 49,
   "metadata": {},
   "outputs": [],
   "source": [
    "LR_scores = [LR_rmse**2, LR_rmse, LR_mae, mape]"
   ]
  },
  {
   "cell_type": "code",
   "execution_count": 50,
   "metadata": {},
   "outputs": [
    {
     "name": "stdout",
     "output_type": "stream",
     "text": [
      "Mean absolute Percent Error = 10.503\n"
     ]
    }
   ],
   "source": [
    "print(\"Mean absolute Percent Error = {:.3f}\".format(mape))"
   ]
  },
  {
   "cell_type": "markdown",
   "metadata": {},
   "source": [
    "# Lasso Regression"
   ]
  },
  {
   "cell_type": "code",
   "execution_count": 51,
   "metadata": {},
   "outputs": [],
   "source": [
    "# from sklearn.linear_model import Lasso\n",
    "# results = []\n",
    "# for i in list(np.logspace(-5, 5, 5)):\n",
    "#     lasso = Lasso(alpha = i).fit(X_train, y_train)\n",
    "#     rmse = sqrt(mean_squared_error(y_val, lasso.predict(X_val)))\n",
    "#     results.append([i, rmse])\n",
    "\n",
    "# table = pd.DataFrame(results, columns=['Alpha', 'RMSE_Value'])\n",
    "# print(table.head(10))\n",
    "# print()\n",
    "#print(table[table.Test_Accuracy == table.Test_Accuracy.max()])"
   ]
  },
  {
   "cell_type": "code",
   "execution_count": 52,
   "metadata": {},
   "outputs": [],
   "source": [
    "# lasso_rmse = table[table.RMSE_Value == table.RMSE_Value.min()]\n",
    "# mse = lasso_rmse ** 2\n",
    "# lasso_rmse"
   ]
  },
  {
   "cell_type": "markdown",
   "metadata": {},
   "source": [
    "# Decision Tree"
   ]
  },
  {
   "cell_type": "code",
   "execution_count": 53,
   "metadata": {},
   "outputs": [
    {
     "name": "stderr",
     "output_type": "stream",
     "text": [
      "C:\\Users\\nayak\\AppData\\Roaming\\Python\\Python36\\site-packages\\sklearn\\model_selection\\_split.py:1978: FutureWarning: The default value of cv will change from 3 to 5 in version 0.22. Specify it explicitly to silence this warning.\n",
      "  warnings.warn(CV_WARNING, FutureWarning)\n",
      "C:\\Users\\nayak\\AppData\\Roaming\\Python\\Python36\\site-packages\\sklearn\\model_selection\\_search.py:266: UserWarning: The total space of parameters 9 is smaller than n_iter=10. Running 9 iterations. For exhaustive searches, use GridSearchCV.\n",
      "  % (grid_size, self.n_iter, grid_size), UserWarning)\n"
     ]
    },
    {
     "name": "stdout",
     "output_type": "stream",
     "text": [
      "DecisionTreeRegressor(criterion='mse', max_depth=8, max_features=None,\n",
      "                      max_leaf_nodes=None, min_impurity_decrease=0.0,\n",
      "                      min_impurity_split=None, min_samples_leaf=1,\n",
      "                      min_samples_split=2, min_weight_fraction_leaf=0.0,\n",
      "                      presort=False, random_state=None, splitter='best')\n"
     ]
    }
   ],
   "source": [
    "from sklearn.model_selection import RandomizedSearchCV\n",
    "from sklearn.tree import DecisionTreeRegressor\n",
    "\n",
    "DR = DecisionTreeRegressor(criterion = \"mse\", max_depth = 10)\n",
    "\n",
    "param_grid = {\n",
    "             'max_depth':[5,8,10,12,15,18,20,30,40,50],\n",
    "             'criterion':['mse']\n",
    "             }\n",
    "\n",
    "RSCV = RandomizedSearchCV(estimator = DR, param_distributions = param_grid, \n",
    "                          scoring = \"neg_mean_squared_error\", refit = True)\n",
    "\n",
    "RSCV.fit(X_train, y_train)\n",
    "print(RSCV.best_estimator_)"
   ]
  },
  {
   "cell_type": "code",
   "execution_count": 54,
   "metadata": {},
   "outputs": [],
   "source": [
    "ypred_RSCV = RSCV.predict(X_val)\n",
    "MAE_RSCV = mean_absolute_error(y_true = y_val, y_pred = ypred_RSCV)\n",
    "MSE_RSCV = mean_squared_error(y_true = y_val, y_pred = ypred_RSCV)\n",
    "mape = 100 * np.mean(abs(np.array(ypred_RSCV) - np.array(y_val))/np.array(y_val))\n",
    "DT_scores = [MSE_RSCV, sqrt(MSE_RSCV),  MAE_RSCV, mape]"
   ]
  },
  {
   "cell_type": "code",
   "execution_count": 55,
   "metadata": {},
   "outputs": [
    {
     "data": {
      "text/plain": [
       "[6943561.241158896, 2635.0638021040204, 1946.2129207171563, 29.366438651719058]"
      ]
     },
     "execution_count": 55,
     "metadata": {},
     "output_type": "execute_result"
    }
   ],
   "source": [
    "DT_scores"
   ]
  },
  {
   "cell_type": "code",
   "execution_count": 56,
   "metadata": {
    "scrolled": false
   },
   "outputs": [
    {
     "data": {
      "text/html": [
       "<div>\n",
       "<style scoped>\n",
       "    .dataframe tbody tr th:only-of-type {\n",
       "        vertical-align: middle;\n",
       "    }\n",
       "\n",
       "    .dataframe tbody tr th {\n",
       "        vertical-align: top;\n",
       "    }\n",
       "\n",
       "    .dataframe thead th {\n",
       "        text-align: right;\n",
       "    }\n",
       "</style>\n",
       "<table border=\"1\" class=\"dataframe\">\n",
       "  <thead>\n",
       "    <tr style=\"text-align: right;\">\n",
       "      <th></th>\n",
       "      <th>Importances</th>\n",
       "    </tr>\n",
       "  </thead>\n",
       "  <tbody>\n",
       "    <tr>\n",
       "      <td>AvgPrice</td>\n",
       "      <td>0.997</td>\n",
       "    </tr>\n",
       "    <tr>\n",
       "      <td>City_Category_C</td>\n",
       "      <td>0.001</td>\n",
       "    </tr>\n",
       "    <tr>\n",
       "      <td>Gender_M</td>\n",
       "      <td>0.001</td>\n",
       "    </tr>\n",
       "    <tr>\n",
       "      <td>Product_Category_3_15.0</td>\n",
       "      <td>0.000</td>\n",
       "    </tr>\n",
       "    <tr>\n",
       "      <td>Product_Category_3_16.0</td>\n",
       "      <td>0.000</td>\n",
       "    </tr>\n",
       "    <tr>\n",
       "      <td>...</td>\n",
       "      <td>...</td>\n",
       "    </tr>\n",
       "    <tr>\n",
       "      <td>Occupation_16</td>\n",
       "      <td>0.000</td>\n",
       "    </tr>\n",
       "    <tr>\n",
       "      <td>Occupation_15</td>\n",
       "      <td>0.000</td>\n",
       "    </tr>\n",
       "    <tr>\n",
       "      <td>Occupation_14</td>\n",
       "      <td>0.000</td>\n",
       "    </tr>\n",
       "    <tr>\n",
       "      <td>Occupation_13</td>\n",
       "      <td>0.000</td>\n",
       "    </tr>\n",
       "    <tr>\n",
       "      <td>Product_Category_3_17.0</td>\n",
       "      <td>0.000</td>\n",
       "    </tr>\n",
       "  </tbody>\n",
       "</table>\n",
       "<p>74 rows × 1 columns</p>\n",
       "</div>"
      ],
      "text/plain": [
       "                         Importances\n",
       "AvgPrice                       0.997\n",
       "City_Category_C                0.001\n",
       "Gender_M                       0.001\n",
       "Product_Category_3_15.0        0.000\n",
       "Product_Category_3_16.0        0.000\n",
       "...                              ...\n",
       "Occupation_16                  0.000\n",
       "Occupation_15                  0.000\n",
       "Occupation_14                  0.000\n",
       "Occupation_13                  0.000\n",
       "Product_Category_3_17.0        0.000\n",
       "\n",
       "[74 rows x 1 columns]"
      ]
     },
     "execution_count": 56,
     "metadata": {},
     "output_type": "execute_result"
    }
   ],
   "source": [
    "pd.DataFrame({'Importances':np.round(RSCV.best_estimator_.feature_importances_,3)}, index = X_train.columns).sort_values(by = ['Importances'], ascending = False)"
   ]
  },
  {
   "cell_type": "markdown",
   "metadata": {},
   "source": [
    "# Random Forest Regressor"
   ]
  },
  {
   "cell_type": "code",
   "execution_count": 57,
   "metadata": {},
   "outputs": [
    {
     "data": {
      "text/plain": [
       "[6974962.183735556, 2641.0153698408412, 1944.2063115776937, 22.237919874153544]"
      ]
     },
     "execution_count": 57,
     "metadata": {},
     "output_type": "execute_result"
    }
   ],
   "source": [
    "from sklearn.ensemble import RandomForestRegressor\n",
    "RFR = RandomForestRegressor(n_estimators = 25, criterion = 'mse', max_depth = 20)\n",
    "RFR.fit(X_train, y_train)\n",
    "\n",
    "y_pred_RFR = RFR.predict(X_val)\n",
    "RFR_mape = 100 * np.mean(abs(np.array(y_val) - np.array(y_pred_RFR))/np.array(y_pred_RFR))\n",
    "RFR_mae = mean_absolute_error(y_val, y_pred_RFR)\n",
    "RFR_mse = mean_squared_error(y_val, y_pred_RFR)\n",
    "RFR_rmse = RFR_mse ** 0.5\n",
    "RFR_scores = [RFR_mse, RFR_rmse, RFR_mae, RFR_mape]\n",
    "RFR_scores"
   ]
  },
  {
   "cell_type": "markdown",
   "metadata": {},
   "source": [
    "# Adaboost Regressor"
   ]
  },
  {
   "cell_type": "code",
   "execution_count": 58,
   "metadata": {},
   "outputs": [
    {
     "data": {
      "text/plain": [
       "[6981367.060152691, 2642.2276700073917, 1937.5967047397803, 22.21975630909165]"
      ]
     },
     "execution_count": 58,
     "metadata": {},
     "output_type": "execute_result"
    }
   ],
   "source": [
    "from sklearn.ensemble import AdaBoostRegressor\n",
    "from sklearn.tree import DecisionTreeRegressor\n",
    "DR = DecisionTreeRegressor(criterion = 'mse', max_depth = 20, random_state = 12).fit(X_train, y_train)\n",
    "\n",
    "ADBReg = AdaBoostRegressor(base_estimator = DR, n_estimators=20, learning_rate=0.1)\n",
    "ADBReg.fit(X_train, y_train)\n",
    "\n",
    "y_pred_ADB = ADBReg.predict(X_val)\n",
    "ADB_mape = 100 * np.mean(abs(np.array(y_val) - np.array(y_pred_ADB))/np.array(y_pred_ADB))\n",
    "ADB_mae = mean_absolute_error(y_val, y_pred_ADB)\n",
    "ADB_mse = mean_squared_error(y_val, y_pred_ADB)\n",
    "ADB_rmse = ADB_mse ** 0.5\n",
    "ADB_metrics = [ADB_mse, ADB_rmse, ADB_mae, ADB_mape]\n",
    "ADB_metrics"
   ]
  },
  {
   "cell_type": "code",
   "execution_count": 59,
   "metadata": {},
   "outputs": [
    {
     "name": "stdout",
     "output_type": "stream",
     "text": [
      "          LinReg  Decision Tree  Random Forest    Adaboost\n",
      "MSE   6923698.55     6943561.24     6974962.18  6981367.06\n",
      "RMSE     2631.29        2635.06        2641.02     2642.23\n",
      "MAE      1947.01        1946.21        1944.21     1937.60\n",
      "MAPE       10.50          29.37          22.24       22.22\n"
     ]
    }
   ],
   "source": [
    "models_metrics = pd.DataFrame({\"LinReg\":LR_scores, \"Decision Tree\":DT_scores, \"Random Forest\":RFR_scores, \"Adaboost\": ADB_metrics}, index = ['MSE', 'RMSE', 'MAE', 'MAPE'])\n",
    "print(round(models_metrics,2))"
   ]
  },
  {
   "cell_type": "code",
   "execution_count": 60,
   "metadata": {},
   "outputs": [],
   "source": [
    "y_pred_test = LR.predict(test)"
   ]
  },
  {
   "cell_type": "code",
   "execution_count": 61,
   "metadata": {},
   "outputs": [],
   "source": [
    "pd.DataFrame({\"User_ID\":test.index,\"Product_ID\":original_test.Product_ID, \"Purchase\":y_pred_test}).to_csv(path_or_buf = \"Predictions_Linear_Regression.csv\", index = False)"
   ]
  }
 ],
 "metadata": {
  "kernelspec": {
   "display_name": "Python 3",
   "language": "python",
   "name": "python3"
  },
  "language_info": {
   "codemirror_mode": {
    "name": "ipython",
    "version": 3
   },
   "file_extension": ".py",
   "mimetype": "text/x-python",
   "name": "python",
   "nbconvert_exporter": "python",
   "pygments_lexer": "ipython3",
   "version": "3.6.8"
  },
  "latex_envs": {
   "LaTeX_envs_menu_present": true,
   "autoclose": false,
   "autocomplete": true,
   "bibliofile": "biblio.bib",
   "cite_by": "apalike",
   "current_citInitial": 1,
   "eqLabelWithNumbers": true,
   "eqNumInitial": 1,
   "hotkeys": {
    "equation": "Ctrl-E",
    "itemize": "Ctrl-I"
   },
   "labels_anchors": false,
   "latex_user_defs": false,
   "report_style_numbering": false,
   "user_envs_cfg": false
  },
  "toc": {
   "base_numbering": 1,
   "nav_menu": {},
   "number_sections": true,
   "sideBar": true,
   "skip_h1_title": false,
   "title_cell": "Table of Contents",
   "title_sidebar": "Contents",
   "toc_cell": false,
   "toc_position": {
    "height": "calc(100% - 180px)",
    "left": "10px",
    "top": "150px",
    "width": "297.275px"
   },
   "toc_section_display": true,
   "toc_window_display": true
  }
 },
 "nbformat": 4,
 "nbformat_minor": 2
}
